{
 "cells": [
  {
   "cell_type": "markdown",
   "id": "51ee8279-49ea-4412-82fa-23b66f94ed87",
   "metadata": {},
   "source": [
    "# basic population plots for fly sleep behaviour based on rethomics pipeline"
   ]
  },
  {
   "cell_type": "markdown",
   "id": "1eaba0a5-9627-4b56-af09-d55ce7f03939",
   "metadata": {},
   "source": [
    "# 1. load packages"
   ]
  },
  {
   "cell_type": "code",
   "execution_count": null,
   "id": "5184da45-7940-4291-8b09-2649f3bdd33f",
   "metadata": {
    "vscode": {
     "languageId": "r"
    }
   },
   "outputs": [],
   "source": [
    "devtools::install_github(\"shaliulab/behavr@deployment\")\n",
    "devtools::install_github(\"shaliulab/scopr@deployment\")\n",
    "devtools::install_github(\"shaliulab/sleepr@deployment\")\n",
    "devtools::install_github(\"shaliulab/ggetho@deployment\")\n",
    "\n",
    "library(devtools)\n",
    "install_github(\"rethomics/ggetho\")\n",
    "\n",
    "library(behavr)\n",
    "library(scopr)\n",
    "library(sleepr)\n",
    "library(ggplot2)\n",
    "library(ggetho)\n",
    "library(tidyverse)"
   ]
  },
  {
   "cell_type": "markdown",
   "id": "00101037-96c4-4eff-9463-943797e35783",
   "metadata": {},
   "source": [
    "# 2. load and link metadata to results folder"
   ]
  },
  {
   "cell_type": "code",
   "execution_count": null,
   "id": "c55988df-b7e9-428c-a9d9-23a21325ca00",
   "metadata": {
    "vscode": {
     "languageId": "r"
    }
   },
   "outputs": [],
   "source": [
    "metadata_10x <- fread(\"/Users/Joana/sleep_signature/behaviour/10x/metadata.csv\")\n",
    "metadata_10x$date <- as.character(metadata_10x$date)\n",
    "class(metadata_10x$date)\n",
    "\n",
    "metadata_10x <- link_ethoscope_metadata(metadata_10x,\n",
    "                                              result_dir = \"/2021-04-14_ethoscope_data/results\")\n",
    "                                              \n",
    "system.time(\n",
    "  dt_10x <- load_ethoscope(metadata_10x,\n",
    "                                 reference_hour=NA,\n",
    "                                 FUN = sleepr::sleep_annotation,\n",
    "                                 cache = \"/ethoscope_data/cache\",\n",
    "                                 verbose=TRUE,\n",
    "                                 map_arg=list(velocity_correction_coef=\"velocity_correction_coef\")\n",
    "  )\n",
    ")"
   ]
  },
  {
   "cell_type": "markdown",
   "id": "8c218d10-4404-426e-b3cb-f444f335a303",
   "metadata": {},
   "source": [
    "# 3. add phase column (light or dark phase) based on time"
   ]
  },
  {
   "cell_type": "code",
   "execution_count": null,
   "id": "882f15af-d8c1-491f-a231-d9073ebc2cb9",
   "metadata": {
    "vscode": {
     "languageId": "r"
    }
   },
   "outputs": [],
   "source": [
    "dt_10x[, phase := ifelse(t %% hours(24) < hours(12), \"L\", \"D\")]"
   ]
  },
  {
   "cell_type": "markdown",
   "id": "b302ec20-f41d-4961-a7c1-e99ce6221022",
   "metadata": {},
   "source": [
    "# 4. prepare data before plotting"
   ]
  },
  {
   "cell_type": "code",
   "execution_count": null,
   "id": "d802ba4e-fb0f-47ee-8e79-debfd44fb4c3",
   "metadata": {
    "vscode": {
     "languageId": "r"
    }
   },
   "outputs": [],
   "source": [
    "metadata_10x$ZT_Time <- factor(metadata_10x$ZT_Time,\n",
    "                                 levels = c(\"ZT 2\", \"ZT 8\", \"ZT 14\", \"ZT 20\"),ordered = TRUE)\n",
    "\n",
    "metadata_10x$condition <- factor(metadata_10x$condition,\n",
    "                                 levels = c(\"2h rebound sleep (RS ZT0-2)\",\n",
    "                                            \"14h sleep deprivation (SD ZT12-2)\",\n",
    "                                            \"20h GBX-sleep (GBX-S ZT12-8)\", \n",
    "                                            \"8h wake (W ZT0-8)\", \n",
    "                                            \"8h sleep deprivation (SD ZT0-8)\",\n",
    "                                            \"20h sleep deprivation (SD ZT12-8)\",\n",
    "                                            \"2h sleep (S ZT12-14)\", \n",
    "                                            \"2h sleep deprivation (SD ZT12-14)\",\n",
    "                                            \"8h sleep (S ZT12-20)\", \n",
    "                                            \"8h yoked control (YC ZT12-20)\", \n",
    "                                            \"8h sleep deprivation (SD ZT12-20)\")\n",
    "                                 ,ordered = TRUE)\n",
    "setkey(metadata_10x, id)\n",
    "setkey(dt_10x, id)\n",
    "setmeta(dt_10x, metadata_10x)\n"
   ]
  },
  {
   "cell_type": "markdown",
   "id": "c1fad746-21fb-4261-84d0-f609e2531c75",
   "metadata": {},
   "source": [
    "# 4. plot population sleep plot"
   ]
  },
  {
   "cell_type": "code",
   "execution_count": null,
   "id": "30cb1a3c-c14a-4c6f-ad9b-bf6232e159a3",
   "metadata": {
    "vscode": {
     "languageId": "r"
    }
   },
   "outputs": [],
   "source": [
    "ggetho(dt_10x, aes(y=asleep, colour=treatment, fill=treatment)) +\n",
    "  ggetho::stat_pop_etho() +\n",
    "  stat_ld_annotations() +\n",
    "  facet_grid(condition ~ .) +\n",
    "  theme_classic(base_size=30)+\n",
    "  scale_y_continuous(\"time asleep\", breaks=c(0, 0.5, 1), labels = scales::percent)+\n",
    "  theme(axis.title.x=element_blank(),\n",
    "        axis.ticks.x=element_blank(), \n",
    "        axis.text.x=element_blank(), \n",
    "        axis.text.y=element_text(size=10, colour = \"black\"),\n",
    "        axis.title.y=element_text(size=40, colour = \"black\")) +\n",
    "  scale_colour_manual(values = c(\"#1f77b4\", \"#d62728\"))+\n",
    "  scale_fill_manual(values = c(\"#1f77b4\", \"#d62728\"))+\n",
    "  theme(strip.text.y.right = element_text(angle = 0))\n",
    "\n",
    "ggsave(\"/Users/Joana/14122022_10x_conditions_combined.pdf\", width = 55, height = 20, dpi = 300, units = \"cm\")"
   ]
  }
 ],
 "metadata": {
  "kernelspec": {
   "display_name": "R 3.6.1. shaliulab",
   "language": "R",
   "name": "ir36"
  },
  "language_info": {
   "name": ""
  }
 },
 "nbformat": 4,
 "nbformat_minor": 5
}
