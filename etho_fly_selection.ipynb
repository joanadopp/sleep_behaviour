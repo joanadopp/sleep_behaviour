{
 "cells": [
  {
   "attachments": {},
   "cell_type": "markdown",
   "metadata": {},
   "source": [
    "# Code for plots to help select flies for downstream 10x processing"
   ]
  },
  {
   "cell_type": "markdown",
   "metadata": {},
   "source": [
    "# 1. load packages"
   ]
  },
  {
   "cell_type": "markdown",
   "metadata": {},
   "source": [
    "devtools::install_github(\"shaliulab/behavr@deployment\")\n",
    "devtools::install_github(\"shaliulab/scopr@deployment\")\n",
    "devtools::install_github(\"shaliulab/sleepr@deployment\")\n",
    "devtools::install_github(\"shaliulab/ggetho@deployment\")\n",
    "\n",
    "library(devtools)\n",
    "install_github(\"rethomics/ggetho\")\n",
    "\n",
    "library(behavr)\n",
    "library(scopr)\n",
    "library(sleepr)\n",
    "library(ggplot2)\n",
    "library(ggetho)\n",
    "library(tidyverse)"
   ]
  },
  {
   "cell_type": "markdown",
   "metadata": {},
   "source": [
    "# 2. load and link metadata to results folder"
   ]
  },
  {
   "cell_type": "code",
   "execution_count": null,
   "metadata": {},
   "outputs": [],
   "source": [
    "metadata <- fread(\"/Users/Joana/sleep_signature/behaviour/10x/metadata.csv\")\n",
    "metadata$date <- as.character(metadata$date)\n",
    "class(metadata$date)\n",
    "\n",
    "metadata_10x <- link_ethoscope_metadata(metadata_10x,\n",
    "                                              result_dir = \"/ethoscope_data/results\")\n",
    "                                              \n",
    "system.time(\n",
    "  dt <- load_ethoscope(metadata,\n",
    "                                 reference_hour=NA,\n",
    "                                 FUN = sleepr::sleep_annotation,\n",
    "                                 cache = \"/ethoscope_data/cache\",\n",
    "                                 verbose=TRUE,\n",
    "                                 map_arg=list(velocity_correction_coef=\"velocity_correction_coef\")\n",
    "  )\n",
    ")"
   ]
  },
  {
   "cell_type": "markdown",
   "metadata": {},
   "source": [
    "# 3. add phase column (light or dark phase) based on time"
   ]
  },
  {
   "cell_type": "code",
   "execution_count": null,
   "metadata": {},
   "outputs": [],
   "source": [
    "dt[, phase := ifelse(t %% hours(24) < hours(12), \"L\", \"D\")]"
   ]
  },
  {
   "attachments": {},
   "cell_type": "markdown",
   "metadata": {},
   "source": [
    "# 4. population plot"
   ]
  },
  {
   "cell_type": "code",
   "execution_count": null,
   "metadata": {},
   "outputs": [],
   "source": [
    "ggetho(dt, aes(y=asleep, colour=condition)) +\n",
    "  ggetho::stat_pop_etho() +\n",
    "  stat_ld_annotations(height = 1, alpha=0.1, outline=NA) +\n",
    "  facet_grid(replicate ~ .) +\n",
    "  theme_classic(base_size=8)+\n",
    "  scale_y_continuous(\"Fraction of time asleep\", limits=c(0,1), labels = scales::percent)+\n",
    "  theme(axis.title.x=element_blank(),axis.text.x=element_blank(),axis.ticks.x=element_blank())+\n",
    "  theme(axis.title.y=element_blank())+\n",
    "  scale_colour_manual()+\n",
    "  scale_fill_manual()"
   ]
  },
  {
   "attachments": {},
   "cell_type": "markdown",
   "metadata": {},
   "source": [
    "# 5. computing sleep duration during light and dark phases by fly ID"
   ]
  },
  {
   "cell_type": "code",
   "execution_count": null,
   "metadata": {},
   "outputs": [],
   "source": [
    "# make new dt with calculations of mean during L and D\n",
    "\n",
    "summary <-\n",
    "  rejoin(dt[,\n",
    "                .(\n",
    "                  # sleep_fraction_all = mean(asleep),\n",
    "                  sleep_fraction_l = mean(asleep[phase == \"L\"]),\n",
    "                  sleep_fraction_d = mean(asleep[phase == \"D\"])\n",
    "                ),\n",
    "                ,by=id])\n",
    "summary_dt\n",
    "\n",
    "# make summary_dt_melted to make two variables: 'phase' and actual value in 'sleep_fraction'\n",
    "\n",
    "summary_dt_melted <- melt(summary_dt, measure.vars = patterns(\"sleep_fraction_\"),\n",
    "                          variable.name = \"phase\", value.name = \"sleep_fraction\")\n"
   ]
  },
  {
   "attachments": {},
   "cell_type": "markdown",
   "metadata": {},
   "source": [
    "# 6. plotting sleep duration"
   ]
  },
  {
   "cell_type": "code",
   "execution_count": null,
   "metadata": {},
   "outputs": [],
   "source": [
    "ggplot(summary_dt_melted, aes(x=replicate, y=sleep_fraction, colour=phase)) +\n",
    "  geom_boxplot(outlier.colour = NA, varwidth = TRUE) +\n",
    "  scale_y_continuous(name= \"Fraction of time asleep\",labels = scales::percent)+\n",
    "  theme_bw(base_size = 15)"
   ]
  },
  {
   "attachments": {},
   "cell_type": "markdown",
   "metadata": {},
   "source": [
    "# 7. plotting motor rotations (interactions) as proxy of whether/how well sleep deprivation worked for each fly"
   ]
  },
  {
   "cell_type": "code",
   "execution_count": null,
   "metadata": {},
   "outputs": [],
   "source": [
    "ggetho(dt, aes(y=interactions, colour=condition), summary_FUN = sum, summary_time_window = mins(30))+\n",
    "  stat_pop_etho()+\n",
    "  stat_ld_annotations(height = 1, alpha=0.1, outline=NA)+\n",
    "  facet_grid(replicate ~ .)+\n",
    "  theme_classic(base_size=10)+\n",
    "  scale_colour_manual(values = \"#16266B\")+\n",
    "  scale_fill_manual(values == \"#16266B\")"
   ]
  }
 ],
 "metadata": {
  "kernelspec": {
   "display_name": "Python 3",
   "language": "python",
   "name": "python3"
  },
  "language_info": {
   "name": "python",
   "version": "3.9.6"
  },
  "orig_nbformat": 4,
  "vscode": {
   "interpreter": {
    "hash": "31f2aee4e71d21fbe5cf8b01ff0e069b9275f58929596ceb00d14d90e3e16cd6"
   }
  }
 },
 "nbformat": 4,
 "nbformat_minor": 2
}
