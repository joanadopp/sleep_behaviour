{
 "cells": [
  {
   "cell_type": "markdown",
   "id": "4d13e6c9-ee37-4678-9046-6d14a3f5930a",
   "metadata": {},
   "source": [
    "# 1. load libraries"
   ]
  },
  {
   "cell_type": "code",
   "execution_count": null,
   "id": "5dc79295-b445-4961-b477-36601b2429a6",
   "metadata": {},
   "outputs": [],
   "source": [
    "library(behavr)\n",
    "library(scopr)\n",
    "library(sleepr)\n",
    "library(tidyverse)\n",
    "library(ggetho)\n",
    "library(pheatmap)\n",
    "library(grid)\n",
    "library(ggfortify)\n",
    "library(ggrepel)"
   ]
  },
  {
   "cell_type": "markdown",
   "id": "78b34fe0-1f08-414b-9396-9f1fee04d701",
   "metadata": {},
   "source": [
    "# 2. prepare metadata"
   ]
  },
  {
   "cell_type": "code",
   "execution_count": null,
   "id": "8bf54c8d-c021-4e68-895e-aed12dc664b8",
   "metadata": {},
   "outputs": [],
   "source": [
    "# there are different datasets, for calculating sleep parameters I want: 1. LDLD(2) first two days, 2. SD (motor=Rotated) first 36h, 3. from datasets SD_6 and SD_7: Control sleep\n",
    "\n",
    "metadata_combined <- fread(\"/Users/Joana/sleep_signature/behaviour/DGRP/metadata_DGRP_combined.csv\")\n",
    "\n",
    "metadata$selection=ifelse(metadata$DGRP %in% c(\"88\",\"287\",\"303\", \"313\", \"359\", \"379\", \"441\", \"646\", \"892\", \"908\"),\"selected\",\"dismissed\")\n",
    "\n",
    "metadata_SD <- metadata_combined[motor == \"Rotated\"]\n",
    "\n",
    "metadata_combined$replicate <- 1:length(metadata_combined$DGRP)\n",
    "metadata_SD$replicate <- 1:length(metadata_SD$DGRP)\n",
    "\n",
    "# curation (no sleep in one recorded night)\n",
    "metadata_exclude <- metadata_combined[!(replicate %in% c('83', '699', '63', '118', '764', '150', '151', '152', '602', '427', '312', '10', '661', '599', '379', '11', '663'))]\n",
    "\n",
    "metadata_SD <- metadata_SD[!(replicate %in% c(\"211\", \"282\", \"283\", \"284\", \"285\", \"286\", \"287\", \"217\"))]\n",
    "metadata_sleep_exclude <- metadata_exclude[motor == \"Control\" & dataset %in% c(\"SD_6\", \"SD_7\")]\n",
    "metadata_LDLD_exclude <- metadata_exclude[dataset %in% c(\"LDLD\", \"LDLD2\")]"
   ]
  },
  {
   "cell_type": "markdown",
   "id": "9d9f18a3-ff5c-46f5-9202-b3cb96ed046f",
   "metadata": {},
   "source": [
    "# 3. linking different metadata files to results files"
   ]
  },
  {
   "cell_type": "code",
   "execution_count": null,
   "id": "7ebf5ca8-10a4-41e5-99a5-518392e2a3f8",
   "metadata": {},
   "outputs": [],
   "source": [
    "metadata_LDLD_exclude <- link_ethoscope_metadata(metadata_LDLD_exclude, \n",
    "                                      result_dir = \"/2021-04-14_ethoscope_data/results\")\n",
    "\n",
    "system.time(\n",
    "  dt <- load_ethoscope(metadata,\n",
    "                          reference_hour=NA, \n",
    "                          FUN = sleepr::sleep_annotation,\n",
    "                          # FUN_filter = scopr::Mode_filter,\n",
    "                          cache = \"ethoscope_cache\", \n",
    "                          map_arg=list(velocity_correction_coef=\"velocity_correction_coefficient\"),\n",
    "                          verbose=FALSE)\n",
    ")\n"
   ]
  },
  {
   "cell_type": "markdown",
   "id": "9c68a546-858c-4aad-84de-aed62b35a7c4",
   "metadata": {},
   "source": [
    "# 4. adding light and dark phase column"
   ]
  },
  {
   "cell_type": "code",
   "execution_count": null,
   "id": "6f6dcb4e-b1f7-4ac9-a75b-4f5273e6e92f",
   "metadata": {},
   "outputs": [],
   "source": [
    "dt_sleep_exclude[, phase := ifelse(t %% hours(24) < hours(12), \"L\", \"D\")]\n",
    "dt_LDLD_exclude[, phase := ifelse(t %% hours(24) < hours(12), \"L\", \"D\")]\n",
    "dt_SD[, phase := ifelse(t %% hours(24) < hours(12), \"L\", \"D\")]"
   ]
  },
  {
   "cell_type": "markdown",
   "id": "d37954ca-88e4-44d0-ae71-e82d02e09d0a",
   "metadata": {},
   "source": [
    "# 5. combine different metadata and dt files"
   ]
  },
  {
   "cell_type": "code",
   "execution_count": null,
   "id": "3ef5f08c-a78f-4f73-b29d-c7010dcc006a",
   "metadata": {},
   "outputs": [],
   "source": [
    "# make combined dt and metadata for all control sleep flies (Control from metadata_DGRP_combined) and the first 36h of the SD flies (Rotated from metadata_DGRP_combined) + first 48h of LDLD(2) \n",
    "\n",
    "dt_first_36h  <- dt_SD[t %between%  c(days(0), days(1) + hours(12))]\n",
    "dt_LDLD_48h <- dt_LDLD_exclude[t %between%  c(days(0), days(2))]\n",
    "\n",
    "dt <- rbindlist(list(dt_sleep_exclude, dt_first_36h, dt_LDLD_48h))\n",
    "metadata <- rbindlist(list(metadata_sleep_exclude, metadata_SD, metadata_LDLD_exclude))\n",
    "\n",
    "#redefine key for both dt and metadata to be id\n",
    "setkey(metadata, 'id')\n",
    "setkey(dt, 'id')\n",
    "\n",
    "#combine dt and metadata\n",
    "setmeta(dt, metadata)\n",
    "print(dt)"
   ]
  },
  {
   "cell_type": "markdown",
   "id": "c1544a48-8b42-4735-8211-398006c8f687",
   "metadata": {},
   "source": [
    "# 6. make population plots"
   ]
  },
  {
   "cell_type": "code",
   "execution_count": null,
   "id": "f8516b32-57d7-4c17-9055-a71dd88c4cee",
   "metadata": {},
   "outputs": [],
   "source": [
    "ggetho(dt, aes(y=asleep, color=selection)) +\n",
    "  stat_pop_etho() +\n",
    "  stat_ld_annotations()+\n",
    "  #facet_grid(DGRP ~ .)+\n",
    "  #facet_grid(replicate ~ .)+\n",
    "  theme_classic(base_size=30)+\n",
    "  #theme(axis.title.x=element_blank(),axis.text.x=element_blank(),axis.ticks.x=element_blank())+\n",
    "  scale_y_continuous(\"Time asleep\", limits=c(0,1), labels = scales::percent) +\n",
    "  scale_colour_manual(name=element_blank(), values = c('#49007e', '#e99500', 'black')) +\n",
    "  scale_fill_manual(name=element_blank(), values = c('#49007e', '#e99500', 'black'))\n",
    "# scale_colour_manual(values = c(\"black\", \"green\", \"magenta\", \"cyan\"))\n",
    "# coord_cartesian(xlim=c(days(1.5), days(3)))\n",
    "#theme(axis.text.y=element_blank(),axis.ticks.y=element_blank())+"
   ]
  },
  {
   "cell_type": "markdown",
   "id": "94968b62-2101-4d2e-ac43-dcf836c5f2a7",
   "metadata": {},
   "source": [
    "# 7. calculate and plot sleep duration by id"
   ]
  },
  {
   "cell_type": "code",
   "execution_count": null,
   "id": "cb01826a-ff6a-45d2-8248-047218c72400",
   "metadata": {},
   "outputs": [],
   "source": [
    "# make new dt with calculations of mean during L and D\n",
    "summary_dt <- \n",
    "  rejoin(dt[,\n",
    "                    .(\n",
    "                      # sleep_fraction_all = mean(asleep),\n",
    "                      sleep_fraction_l = mean(asleep[phase == \"L\"]),\n",
    "                      sleep_fraction_d = mean(asleep[phase == \"D\"])\n",
    "                    ),\n",
    "                    ,by=id])\n",
    "summary_dt\n",
    "\n",
    "# make summary_dt_melted to make two variables: 'phase' and actual value in 'sleep_fraction'\n",
    "summary_dt_melted <- melt(summary_dt, measure.vars = patterns(\"sleep_fraction_\"),\n",
    "                          variable.name = \"phase\", value.name = \"sleep_fraction\")\n",
    "\n",
    "## plotting sleep fraction during night time, day time or total sleep\n",
    "ggplot(summary_dt_melted, aes(x=factor(DGRP), y=sleep_fraction, colour=phase)) + \n",
    "  geom_boxplot(outlier.colour = NA, varwidth = TRUE) +\n",
    "  # geom_point()+\n",
    "  # geom_jitter(alpha=.7) +\n",
    "  # facet_grid(DGRP_replicate ~ .) +\n",
    "  scale_y_continuous(name= \"Fraction of time asleep\",labels = scales::percent)+\n",
    "  # scale_x_discrete(name= \"sleep quality\")+\n",
    "  # scale_colour_manual(name= \"phase\", values = c(\"darkgrey\", \"black\"), labels = c(\"light\", \"dark\"))+\n",
    "  theme_bw(base_size = 15)\n",
    "##geom_jitter(aes(shape=phase))\n",
    "## make subset of a few lines from A and D then make the above boxplot with shape and colour\n",
    "\n",
    "#calculate significance ANOVA\n",
    "res.aov_sleepfraction_d <- aov(sleep_fraction_d ~ selection, data = summary_dt)\n",
    "summary(res.aov_sleepfraction_d)\n",
    "TukeyHSD(res.aov_sleepfraction_d)"
   ]
  },
  {
   "cell_type": "markdown",
   "id": "70e0a59d-2c13-4b05-b876-2173f62546d5",
   "metadata": {},
   "source": [
    "# 8. calculate sleep bouts and latency"
   ]
  },
  {
   "cell_type": "code",
   "execution_count": null,
   "id": "91564685-cb3d-40fc-81fd-9e0960ca0a72",
   "metadata": {},
   "outputs": [],
   "source": [
    "# make overall_summary including all calculations (sleep durations, bout length and number, sleep latencies)\n",
    "bout_dt <- bout_analysis(asleep, dt)\n",
    "bout_dt  <- bout_dt [asleep == TRUE, -\"asleep\"]\n",
    "\n",
    "bout_dt_dark  <- bout_dt [t %between%  c(days(0)+ hours(12), days(1)) | t %between% c(days(1)+ hours(12), days(2)) | t %between% c(days(2)+ hours(12), days(3))]\n",
    "bout_summary_0  <- bout_dt_dark [,\n",
    "                                         .(n_bouts = .N,\n",
    "                                           mean_bout_length = mean(duration)),\n",
    "                                         by=id]\n",
    "\n",
    "bout_dt_dark <- bout_dt[t %between%  c(days(0) + hours(12), days(1))]\n",
    "# We express t relatively to the first day\n",
    "bout_dt_dark[, t:= t - days(0)]\n",
    "\n",
    "bout_summary_1 <- bout_dt_dark[,.(\n",
    "  latency_1 = t[1], # the first bout is at t[1] \n",
    "  first_bout_length_1 = duration[1],\n",
    "  latency_to_longest_bout_1 = t[which.max(duration)],\n",
    "  length_longest_bout_1 = max(duration)\n",
    "),\n",
    "by=id]\n",
    "\n",
    "bout_dt_dark <- bout_dt[t %between%  c(days(1) + hours(12), days(2))]\n",
    "# We express t relatively to the first day\n",
    "bout_dt_dark[, t:= t - days(1)]\n",
    "\n",
    "bout_summary_2 <- bout_dt_dark[,.(\n",
    "  latency_2 = t[1], # the first bout is at t[1] \n",
    "  first_bout_length_2 = duration[1],\n",
    "  latency_to_longest_bout_2 = t[which.max(duration)],\n",
    "  length_longest_bout_2 = max(duration)\n",
    "),\n",
    "by=id]\n",
    "\n",
    "bout_dt_dark <- bout_dt[t %between%  c(days(2) + hours(12), days(3))]\n",
    "# We express t relatively to the first day\n",
    "bout_dt_dark[, t:= t - days(2)]\n",
    "\n",
    "bout_summary_3 <- bout_dt_dark[,.(\n",
    "  latency_3 = t[1], # the first bout is at t[1] \n",
    "  first_bout_length_3 = duration[1],\n",
    "  latency_to_longest_bout_3 = t[which.max(duration)],\n",
    "  length_longest_bout_3 = max(duration)\n",
    "),\n",
    "by=id]\n",
    "\n",
    "bout_summaries <- list(bout_summary_0, bout_summary_1, bout_summary_2, bout_summary_3)\n",
    "bout_summary <- Reduce(function(x, y) merge(x, y, all=TRUE), bout_summaries) \n",
    "bout_summary\n",
    "\n",
    "#average of the latencies of first and second night for each animal, there is no 2nd night for the cut SD flies (dt_first_36h), so we need enter simply the value for the latency_1 for these flies\n",
    "bout_summary$latency <- rowMeans(bout_summary[,c('latency_1', 'latency_2', 'latency_3')], na.rm = TRUE)\n",
    "bout_summary$latency_to_longest_bout <- rowMeans(bout_summary[,c('latency_to_longest_bout_1', 'latency_to_longest_bout_2', 'latency_to_longest_bout_3')], na.rm = TRUE)\n",
    "\n",
    "# rejoin summary_dt(all metadata variables, sleep_fraction_all, sleep_fraction_l, sleep_fraction_d) and bout_summary (n_bouts, mean_bout_length, latency)\n",
    "overall_summary  <- summary_dt [bout_summary]\n",
    "overall_summary"
   ]
  },
  {
   "cell_type": "markdown",
   "id": "5b727c4f-7fe9-4fbf-80d5-e2f192b53c52",
   "metadata": {},
   "source": [
    "# 9. summarize sleep parameters in heatmap"
   ]
  },
  {
   "cell_type": "code",
   "execution_count": null,
   "id": "72eb770b-c92c-40d4-8aa4-7b8b085b28f9",
   "metadata": {},
   "outputs": [],
   "source": [
    "heatmap_dt <- overall_summary[,.(\n",
    "  selection = max(selection),\n",
    "  sleep_fraction_day = mean(sleep_fraction_l),\n",
    "  sleep_fraction_day_std = sd(sleep_fraction_l),\n",
    "  sleep_fraction_night = mean(sleep_fraction_d),\n",
    "  sleep_fraction_night_std = sd(sleep_fraction_d),\n",
    "  n_bouts = mean(n_bouts),\n",
    "  n_bouts_std = sd(n_bouts),\n",
    "  mean_bout_length = mean(mean_bout_length),\n",
    "  mean_bout_length_std = sd(mean_bout_length),\n",
    "  latency = mean(latency),\n",
    "  latency_std = sd(latency),\n",
    "  latency_to_longest_bout = mean(latency_to_longest_bout),\n",
    "  latency_to_longest_bout_std = sd(latency_to_longest_bout)\n",
    "),\n",
    "by=DGRP]\n",
    "\n",
    "heatmap_z <- heatmap_dt %>% \n",
    "  mutate(sleep_fraction_day = (sleep_fraction_day - mean(sleep_fraction_day))/sd(sleep_fraction_day),\n",
    "         sleep_fraction_day_std = (sleep_fraction_day_std - mean(sleep_fraction_day_std))/sd(sleep_fraction_day_std),\n",
    "         sleep_fraction_night = (sleep_fraction_night - mean(sleep_fraction_night))/sd(sleep_fraction_night),\n",
    "         sleep_fraction_night_std = (sleep_fraction_night_std - mean(sleep_fraction_night_std))/sd(sleep_fraction_night_std),\n",
    "         n_bouts = (n_bouts - mean(n_bouts))/sd(n_bouts),\n",
    "         n_bouts_std = (n_bouts_std - mean(n_bouts_std))/sd(n_bouts_std),\n",
    "         mean_bout_length = (mean_bout_length - mean(mean_bout_length))/sd(mean_bout_length),\n",
    "         mean_bout_length_std = (mean_bout_length_std - mean(mean_bout_length_std))/sd(mean_bout_length_std),\n",
    "         latency = (latency - mean(latency))/sd(latency),\n",
    "         latency_std = (latency_std - mean(latency_std))/sd(latency_std),\n",
    "         latency_to_longest_bout = (latency_to_longest_bout - mean(latency_to_longest_bout))/sd(latency_to_longest_bout),\n",
    "         latency_to_longest_bout_std = (latency_to_longest_bout_std - mean(latency_to_longest_bout_std))/sd(latency_to_longest_bout_std))\n",
    "\n",
    "library(\"writexl\")\n",
    "write_xlsx(heatmap_z,\"/Users/Joana/sleep_signature/behaviour/DGRP/heatmap_z_04072022.xlsx\")\n",
    "\n",
    "heatmap_z$colors=ifelse(heatmap_z$DGRP %in% c(\"88\",\"287\",\"303\", \"313\", \"359\", \"379\", \"441\", \"646\", \"892\", \"908\"),\"selected\",\"dismissed\")\n",
    "\n",
    "heatmap_z <- heatmap_z %>%\n",
    "  remove_rownames() %>%\n",
    "  column_to_rownames(var = 'DGRP')\n",
    "\n",
    "heatmap=pheatmap(heatmap_z[, 1:12], \n",
    "                 clustering_distance_rows=\"correlation\",\n",
    "                 clustering_method=\"ward.D\")\n",
    "cols=heatmap_z[order(match(rownames(heatmap_z), heatmap$gtable$grobs[[5]]$label)), ]$colors\n",
    "heatmap$gtable$grobs[[5]]$gp=gpar(col=cols)\n",
    "heatmap"
   ]
  },
  {
   "cell_type": "markdown",
   "id": "aefd2bc8-2c5d-4e49-be49-7651fd4af958",
   "metadata": {},
   "source": [
    "# 10. calculate PCA and plot"
   ]
  },
  {
   "cell_type": "code",
   "execution_count": null,
   "id": "73236dca-bddf-4153-940c-82f3e0464762",
   "metadata": {},
   "outputs": [],
   "source": [
    "df <- heatmap_z[,4:15]\n",
    "pca_res <- prcomp(df, scale. = TRUE)\n",
    "\n",
    "autoplot(pca_res)\n",
    "\n",
    "autoplot(pca_res, data = heatmap_z, colour = \"selection\", label=TRUE, shape=\"selection\", frame=T, label.size=5) +\n",
    "  theme_classic() +\n",
    "  scale_colour_manual(name=element_blank(), values = c('#49007e', '#dd6d00')) +\n",
    "  scale_fill_manual(name=element_blank(), values = c('#49007e', '#dd6d00'))"
   ]
  },
  {
   "cell_type": "markdown",
   "id": "b4800552-35d2-487f-9d6c-6d840ae353dd",
   "metadata": {},
   "source": [
    "# 11. calculate pDoze and pWake and plot"
   ]
  },
  {
   "cell_type": "code",
   "execution_count": null,
   "id": "49bae718-3318-4d1d-971d-1595662f7f0b",
   "metadata": {},
   "outputs": [],
   "source": [
    "source('transition_functions.R')\n",
    "dt_pwake<-behavr::bin_apply_all(data = dt, y=asleep, FUN=p_wake)\n",
    "dt_amount<-behavr::bin_apply_all(data = dt, y=asleep, FUN=mean)\n",
    "\n",
    "dt_pwake$p_wake <- dt_pwake$asleep\n",
    "dt_pwake$asleep <- NULL\n",
    "dt_pwake <- merge(dt_amount, dt_pwake, by=c('id', 't'))\n",
    "\n",
    "dt_pdoze<-behavr::bin_apply_all(data = dt, y=asleep, FUN=p_doze)\n",
    "dt_amount<-behavr::bin_apply_all(data = dt, y=asleep, FUN=mean)\n",
    "\n",
    "dt_pdoze$p_doze <- dt_pdoze$asleep\n",
    "dt_pdoze$asleep <- NULL\n",
    "\n",
    "dt_transitions <- merge(dt_pwake, dt_pdoze, by=c('id', 't'))\n",
    "\n",
    "#NIGHT\n",
    "dt_transitions_night  <- dt_transitions [t %between%  c(days(0)+ hours(12), days(1)) | t %between% c(days(1)+ hours(12), days(2)) | t %between% c(days(2)+ hours(12), days(3))]\n",
    "dt_transitions_id  <- dt_transitions_night [,\n",
    "                                   .(mean_pwake = mean(p_wake, na.rm = TRUE),\n",
    "                                   mean_pdoze = mean(p_doze, na.rm = TRUE)),\n",
    "                                 by=id]\n",
    "\n",
    "summary  <- overall_summary [dt_transitions_id]\n",
    "\n",
    "dt_transitions_DGRP  <- summary [,\n",
    "                                 .(mean_pwake = mean(mean_pwake),\n",
    "                                   mean_pdoze = mean(mean_pdoze)),\n",
    "                                 by=DGRP]\n",
    "\n",
    "dt_transitions_DGRP <- dt_transitions_DGRP[!dt_transitions_DGRP$DGRP == \"NA\"]\n",
    "dt_transitions_DGRP$selection=ifelse(dt_transitions_DGRP$DGRP %in% c(\"88\",\"287\",\"303\", \"313\", \"359\", \"379\", \"441\", \"646\", \"892\", \"908\"),\"selected\",\"dismissed\")\n",
    "dt_transitions_DGRP$colors=ifelse(dt_transitions_DGRP$DGRP %in% c(\"88\",\"287\",\"303\", \"313\", \"359\", \"379\", \"441\", \"646\", \"892\", \"908\"),\"#e99500\",\"#49007e\")\n",
    "\n",
    "#DAY\n",
    "dt_transitions_day  <- dt_transitions [t %between%  c(days(0), days(0) + hours(12)) | t %between% c(days(1), days(1) + hours(12)) | t %between% c(days(2), days(2) + hours(12))]\n",
    "\n",
    "dt_transitions_id  <- dt_transitions_day [,\n",
    "                                            .(mean_pwake = mean(p_wake, na.rm = TRUE),\n",
    "                                              mean_pdoze = mean(p_doze, na.rm = TRUE)),\n",
    "                                            by=id]\n",
    "summary  <- overall_summary [dt_transitions_id]\n",
    "dt_transitions_DGRP  <- summary [,\n",
    "                                 .(mean_pwake = mean(mean_pwake),\n",
    "                                   mean_pdoze = mean(mean_pdoze)),\n",
    "                                 by=DGRP]\n",
    "\n",
    "dt_transitions_DGRP <- dt_transitions_DGRP[!dt_transitions_DGRP$DGRP == \"NA\"]\n",
    "dt_transitions_DGRP$selection=ifelse(dt_transitions_DGRP$DGRP %in% c(\"88\",\"287\",\"303\", \"313\", \"359\", \"379\", \"441\", \"646\", \"892\", \"908\"),\"selected\",\"dismissed\")\n",
    "dt_transitions_DGRP$colors=ifelse(dt_transitions_DGRP$DGRP %in% c(\"88\",\"287\",\"303\", \"313\", \"359\", \"379\", \"441\", \"646\", \"892\", \"908\"),\"#e99500\",\"#49007e\")\n",
    "\n",
    "#DAY AND NIGHT\n",
    "dt_transitions_id_day_night  <- dt_transitions [,\n",
    "                                        .(mean_pwake = mean(p_wake, na.rm = TRUE),\n",
    "                                          mean_pdoze = mean(p_doze, na.rm = TRUE)),\n",
    "                                        by=id]\n",
    "\n",
    "summary  <- overall_summary [dt_transitions_id_day_night]\n",
    "\n",
    "dt_transitions_DGRP_day_night  <- summary [,\n",
    "                                 .(mean_pwake = mean(mean_pwake),\n",
    "                                   mean_pdoze = mean(mean_pdoze)),\n",
    "                                 by=DGRP]\n",
    "\n",
    "dt_transitions_DGRP_day_night$selection=ifelse(dt_transitions_DGRP_day_night$DGRP %in% c(\"88\",\"287\",\"303\", \"313\", \"359\", \"379\", \"441\", \"646\", \"892\", \"908\"),\"selected\",\"dismissed\")\n",
    "\n",
    "p <- ggplot(dt_transitions_DGRP, aes(x=mean_pwake, y=mean_pdoze, colour=selection)) + geom_point()\n",
    "p + stat_ellipse(type = \"norm\") +\n",
    "  theme_classic(base_size = 20) +\n",
    "  scale_colour_manual(name=element_blank(), values = c('#49007e', '#e99500', 'black')) +\n",
    "  scale_fill_manual(name=element_blank(), values = c('#49007e', '#e99500', 'black')) +\n",
    "  geom_text_repel(aes(label=dt_transitions_DGRP$DGRP), size=8, max.overlaps = 10, color=dt_transitions_DGRP$colors)\n",
    "  #scale_x_continuous(limits = c(0, 0.5)) + \n",
    "  #scale_y_continuous(limits = c(0, 0.5))"
   ]
  }
 ],
 "metadata": {
  "kernelspec": {
   "display_name": "R 3.6.1. shaliulab",
   "language": "R",
   "name": "ir36"
  },
  "language_info": {
   "codemirror_mode": "r",
   "file_extension": ".r",
   "mimetype": "text/x-r-source",
   "name": "R",
   "pygments_lexer": "r",
   "version": "3.6.1"
  }
 },
 "nbformat": 4,
 "nbformat_minor": 5
}
